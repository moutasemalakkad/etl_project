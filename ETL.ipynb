{
 "cells": [
  {
   "cell_type": "code",
   "execution_count": 3,
   "metadata": {},
   "outputs": [],
   "source": [
    "import pandas as pd"
   ]
  },
  {
   "cell_type": "code",
   "execution_count": 4,
   "metadata": {},
   "outputs": [
    {
     "data": {
      "text/html": [
       "<div>\n",
       "<style scoped>\n",
       "    .dataframe tbody tr th:only-of-type {\n",
       "        vertical-align: middle;\n",
       "    }\n",
       "\n",
       "    .dataframe tbody tr th {\n",
       "        vertical-align: top;\n",
       "    }\n",
       "\n",
       "    .dataframe thead th {\n",
       "        text-align: right;\n",
       "    }\n",
       "</style>\n",
       "<table border=\"1\" class=\"dataframe\">\n",
       "  <thead>\n",
       "    <tr style=\"text-align: right;\">\n",
       "      <th></th>\n",
       "      <th>Year</th>\n",
       "      <th>ZIP Code</th>\n",
       "      <th>Causes of Death</th>\n",
       "      <th>Count</th>\n",
       "      <th>Location</th>\n",
       "    </tr>\n",
       "  </thead>\n",
       "  <tbody>\n",
       "    <tr>\n",
       "      <th>0</th>\n",
       "      <td>1999</td>\n",
       "      <td>90002</td>\n",
       "      <td>SUI</td>\n",
       "      <td>1</td>\n",
       "      <td>(33.94969, -118.246213)</td>\n",
       "    </tr>\n",
       "    <tr>\n",
       "      <th>1</th>\n",
       "      <td>1999</td>\n",
       "      <td>90005</td>\n",
       "      <td>HOM</td>\n",
       "      <td>1</td>\n",
       "      <td>(34.058508, -118.301197)</td>\n",
       "    </tr>\n",
       "  </tbody>\n",
       "</table>\n",
       "</div>"
      ],
      "text/plain": [
       "   Year  ZIP Code Causes of Death  Count                 Location \n",
       "0  1999     90002             SUI      1   (33.94969, -118.246213)\n",
       "1  1999     90005             HOM      1  (34.058508, -118.301197)"
      ]
     },
     "execution_count": 4,
     "metadata": {},
     "output_type": "execute_result"
    }
   ],
   "source": [
    "path_death = 'causes_of_death.csv'\n",
    "\n",
    "df_death = pd.read_csv(path_death)\n",
    "df_death.head(2)"
   ]
  },
  {
   "cell_type": "code",
   "execution_count": 5,
   "metadata": {},
   "outputs": [
    {
     "data": {
      "text/html": [
       "<div>\n",
       "<style scoped>\n",
       "    .dataframe tbody tr th:only-of-type {\n",
       "        vertical-align: middle;\n",
       "    }\n",
       "\n",
       "    .dataframe tbody tr th {\n",
       "        vertical-align: top;\n",
       "    }\n",
       "\n",
       "    .dataframe thead th {\n",
       "        text-align: right;\n",
       "    }\n",
       "</style>\n",
       "<table border=\"1\" class=\"dataframe\">\n",
       "  <thead>\n",
       "    <tr style=\"text-align: right;\">\n",
       "      <th></th>\n",
       "      <th>STATE</th>\n",
       "      <th>ZIPCODE</th>\n",
       "      <th>Number of returns</th>\n",
       "      <th>Adjusted gross income (AGI)</th>\n",
       "      <th>Avg AGI</th>\n",
       "      <th>Number of returns with total income</th>\n",
       "      <th>Total income amount</th>\n",
       "      <th>Avg total income</th>\n",
       "      <th>Number of returns with taxable income</th>\n",
       "      <th>Taxable income amount</th>\n",
       "      <th>Avg taxable income</th>\n",
       "    </tr>\n",
       "  </thead>\n",
       "  <tbody>\n",
       "    <tr>\n",
       "      <th>0</th>\n",
       "      <td>AL</td>\n",
       "      <td>0</td>\n",
       "      <td>2022380</td>\n",
       "      <td>105089761</td>\n",
       "      <td>51.963410</td>\n",
       "      <td>2022380</td>\n",
       "      <td>106420533</td>\n",
       "      <td>52.621433</td>\n",
       "      <td>1468370</td>\n",
       "      <td>67850874</td>\n",
       "      <td>46.208295</td>\n",
       "    </tr>\n",
       "    <tr>\n",
       "      <th>1</th>\n",
       "      <td>AL</td>\n",
       "      <td>35004</td>\n",
       "      <td>4930</td>\n",
       "      <td>255534</td>\n",
       "      <td>51.832454</td>\n",
       "      <td>4930</td>\n",
       "      <td>258024</td>\n",
       "      <td>52.337525</td>\n",
       "      <td>4020</td>\n",
       "      <td>163859</td>\n",
       "      <td>40.760945</td>\n",
       "    </tr>\n",
       "  </tbody>\n",
       "</table>\n",
       "</div>"
      ],
      "text/plain": [
       "  STATE  ZIPCODE  Number of returns  Adjusted gross income (AGI)    Avg AGI  \\\n",
       "0    AL        0            2022380                    105089761  51.963410   \n",
       "1    AL    35004               4930                       255534  51.832454   \n",
       "\n",
       "   Number of returns with total income  Total income amount  Avg total income  \\\n",
       "0                              2022380            106420533         52.621433   \n",
       "1                                 4930               258024         52.337525   \n",
       "\n",
       "   Number of returns with taxable income  Taxable income amount  \\\n",
       "0                                1468370               67850874   \n",
       "1                                   4020                 163859   \n",
       "\n",
       "   Avg taxable income  \n",
       "0           46.208295  \n",
       "1           40.760945  "
      ]
     },
     "execution_count": 5,
     "metadata": {},
     "output_type": "execute_result"
    }
   ],
   "source": [
    "path_income = 'irs_income_by_zip_code.csv'\n",
    "\n",
    "df_income = pd.read_csv(path_income)\n",
    "df_income.head(2)"
   ]
  },
  {
   "cell_type": "code",
   "execution_count": 11,
   "metadata": {
    "scrolled": true
   },
   "outputs": [
    {
     "data": {
      "text/html": [
       "<div>\n",
       "<style scoped>\n",
       "    .dataframe tbody tr th:only-of-type {\n",
       "        vertical-align: middle;\n",
       "    }\n",
       "\n",
       "    .dataframe tbody tr th {\n",
       "        vertical-align: top;\n",
       "    }\n",
       "\n",
       "    .dataframe thead th {\n",
       "        text-align: right;\n",
       "    }\n",
       "</style>\n",
       "<table border=\"1\" class=\"dataframe\">\n",
       "  <thead>\n",
       "    <tr style=\"text-align: right;\">\n",
       "      <th></th>\n",
       "      <th>ZIP Code</th>\n",
       "      <th>Causes of Death</th>\n",
       "      <th>Count</th>\n",
       "    </tr>\n",
       "  </thead>\n",
       "  <tbody>\n",
       "    <tr>\n",
       "      <th>0</th>\n",
       "      <td>90002</td>\n",
       "      <td>SUI</td>\n",
       "      <td>1</td>\n",
       "    </tr>\n",
       "    <tr>\n",
       "      <th>1</th>\n",
       "      <td>90005</td>\n",
       "      <td>HOM</td>\n",
       "      <td>1</td>\n",
       "    </tr>\n",
       "  </tbody>\n",
       "</table>\n",
       "</div>"
      ],
      "text/plain": [
       "   ZIP Code Causes of Death  Count\n",
       "0     90002             SUI      1\n",
       "1     90005             HOM      1"
      ]
     },
     "execution_count": 11,
     "metadata": {},
     "output_type": "execute_result"
    }
   ],
   "source": [
    "df_death_final = df_death[['ZIP Code','Causes of Death','Count']]\n",
    "df_death_final.head(2)"
   ]
  },
  {
   "cell_type": "code",
   "execution_count": 13,
   "metadata": {},
   "outputs": [
    {
     "data": {
      "text/html": [
       "<div>\n",
       "<style scoped>\n",
       "    .dataframe tbody tr th:only-of-type {\n",
       "        vertical-align: middle;\n",
       "    }\n",
       "\n",
       "    .dataframe tbody tr th {\n",
       "        vertical-align: top;\n",
       "    }\n",
       "\n",
       "    .dataframe thead th {\n",
       "        text-align: right;\n",
       "    }\n",
       "</style>\n",
       "<table border=\"1\" class=\"dataframe\">\n",
       "  <thead>\n",
       "    <tr style=\"text-align: right;\">\n",
       "      <th></th>\n",
       "      <th>ZIPCODE</th>\n",
       "      <th>Avg AGI</th>\n",
       "    </tr>\n",
       "  </thead>\n",
       "  <tbody>\n",
       "    <tr>\n",
       "      <th>0</th>\n",
       "      <td>0</td>\n",
       "      <td>51.963410</td>\n",
       "    </tr>\n",
       "    <tr>\n",
       "      <th>1</th>\n",
       "      <td>35004</td>\n",
       "      <td>51.832454</td>\n",
       "    </tr>\n",
       "  </tbody>\n",
       "</table>\n",
       "</div>"
      ],
      "text/plain": [
       "   ZIPCODE    Avg AGI\n",
       "0        0  51.963410\n",
       "1    35004  51.832454"
      ]
     },
     "execution_count": 13,
     "metadata": {},
     "output_type": "execute_result"
    }
   ],
   "source": [
    "df_income_final = df_income[['ZIPCODE', 'Avg AGI']]\n",
    "df_income_final.head(2)"
   ]
  },
  {
   "cell_type": "code",
   "execution_count": null,
   "metadata": {},
   "outputs": [],
   "source": []
  }
 ],
 "metadata": {
  "kernelspec": {
   "display_name": "Python 3",
   "language": "python",
   "name": "python3"
  },
  "language_info": {
   "codemirror_mode": {
    "name": "ipython",
    "version": 3
   },
   "file_extension": ".py",
   "mimetype": "text/x-python",
   "name": "python",
   "nbconvert_exporter": "python",
   "pygments_lexer": "ipython3",
   "version": "3.7.1"
  }
 },
 "nbformat": 4,
 "nbformat_minor": 2
}
