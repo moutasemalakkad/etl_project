{
 "cells": [
  {
   "cell_type": "code",
   "execution_count": 67,
   "metadata": {},
   "outputs": [],
   "source": [
    "import pandas as pd\n",
    "import numpy as np"
   ]
  },
  {
   "cell_type": "code",
   "execution_count": 8,
   "metadata": {},
   "outputs": [
    {
     "data": {
      "text/html": [
       "<div>\n",
       "<style scoped>\n",
       "    .dataframe tbody tr th:only-of-type {\n",
       "        vertical-align: middle;\n",
       "    }\n",
       "\n",
       "    .dataframe tbody tr th {\n",
       "        vertical-align: top;\n",
       "    }\n",
       "\n",
       "    .dataframe thead th {\n",
       "        text-align: right;\n",
       "    }\n",
       "</style>\n",
       "<table border=\"1\" class=\"dataframe\">\n",
       "  <thead>\n",
       "    <tr style=\"text-align: right;\">\n",
       "      <th></th>\n",
       "      <th>Year</th>\n",
       "      <th>ZIP Code</th>\n",
       "      <th>Causes of Death</th>\n",
       "      <th>Count</th>\n",
       "      <th>Location</th>\n",
       "    </tr>\n",
       "  </thead>\n",
       "  <tbody>\n",
       "    <tr>\n",
       "      <th>0</th>\n",
       "      <td>1999</td>\n",
       "      <td>90002</td>\n",
       "      <td>SUI</td>\n",
       "      <td>1</td>\n",
       "      <td>(33.94969, -118.246213)</td>\n",
       "    </tr>\n",
       "    <tr>\n",
       "      <th>1</th>\n",
       "      <td>1999</td>\n",
       "      <td>90005</td>\n",
       "      <td>HOM</td>\n",
       "      <td>1</td>\n",
       "      <td>(34.058508, -118.301197)</td>\n",
       "    </tr>\n",
       "    <tr>\n",
       "      <th>2</th>\n",
       "      <td>1999</td>\n",
       "      <td>90006</td>\n",
       "      <td>ALZ</td>\n",
       "      <td>1</td>\n",
       "      <td>(34.049323, -118.291687)</td>\n",
       "    </tr>\n",
       "    <tr>\n",
       "      <th>3</th>\n",
       "      <td>1999</td>\n",
       "      <td>90007</td>\n",
       "      <td>ALZ</td>\n",
       "      <td>1</td>\n",
       "      <td>(34.029442, -118.287095)</td>\n",
       "    </tr>\n",
       "    <tr>\n",
       "      <th>4</th>\n",
       "      <td>1999</td>\n",
       "      <td>90009</td>\n",
       "      <td>DIA</td>\n",
       "      <td>1</td>\n",
       "      <td>(33.9452, -118.3832)</td>\n",
       "    </tr>\n",
       "  </tbody>\n",
       "</table>\n",
       "</div>"
      ],
      "text/plain": [
       "   Year  ZIP Code Causes of Death  Count                 Location \n",
       "0  1999     90002             SUI      1   (33.94969, -118.246213)\n",
       "1  1999     90005             HOM      1  (34.058508, -118.301197)\n",
       "2  1999     90006             ALZ      1  (34.049323, -118.291687)\n",
       "3  1999     90007             ALZ      1  (34.029442, -118.287095)\n",
       "4  1999     90009             DIA      1      (33.9452, -118.3832)"
      ]
     },
     "execution_count": 8,
     "metadata": {},
     "output_type": "execute_result"
    }
   ],
   "source": [
    "path_death = 'causes_of_death.csv'\n",
    "\n",
    "df_death = pd.read_csv(path_death)\n",
    "df_death.head()"
   ]
  },
  {
   "cell_type": "code",
   "execution_count": 107,
   "metadata": {},
   "outputs": [
    {
     "data": {
      "text/html": [
       "<div>\n",
       "<style scoped>\n",
       "    .dataframe tbody tr th:only-of-type {\n",
       "        vertical-align: middle;\n",
       "    }\n",
       "\n",
       "    .dataframe tbody tr th {\n",
       "        vertical-align: top;\n",
       "    }\n",
       "\n",
       "    .dataframe thead th {\n",
       "        text-align: right;\n",
       "    }\n",
       "</style>\n",
       "<table border=\"1\" class=\"dataframe\">\n",
       "  <thead>\n",
       "    <tr style=\"text-align: right;\">\n",
       "      <th></th>\n",
       "      <th>STATE</th>\n",
       "      <th>ZIPCODE</th>\n",
       "      <th>Number of returns</th>\n",
       "      <th>Adjusted gross income (AGI)</th>\n",
       "      <th>Avg AGI</th>\n",
       "      <th>Number of returns with total income</th>\n",
       "      <th>Total income amount</th>\n",
       "      <th>Avg total income</th>\n",
       "      <th>Number of returns with taxable income</th>\n",
       "      <th>Taxable income amount</th>\n",
       "      <th>Avg taxable income</th>\n",
       "    </tr>\n",
       "  </thead>\n",
       "  <tbody>\n",
       "    <tr>\n",
       "      <th>0</th>\n",
       "      <td>AL</td>\n",
       "      <td>0</td>\n",
       "      <td>2022380</td>\n",
       "      <td>105089761</td>\n",
       "      <td>51.963410</td>\n",
       "      <td>2022380</td>\n",
       "      <td>106420533</td>\n",
       "      <td>52.621433</td>\n",
       "      <td>1468370</td>\n",
       "      <td>67850874</td>\n",
       "      <td>46.208295</td>\n",
       "    </tr>\n",
       "    <tr>\n",
       "      <th>1</th>\n",
       "      <td>AL</td>\n",
       "      <td>35004</td>\n",
       "      <td>4930</td>\n",
       "      <td>255534</td>\n",
       "      <td>51.832454</td>\n",
       "      <td>4930</td>\n",
       "      <td>258024</td>\n",
       "      <td>52.337525</td>\n",
       "      <td>4020</td>\n",
       "      <td>163859</td>\n",
       "      <td>40.760945</td>\n",
       "    </tr>\n",
       "    <tr>\n",
       "      <th>2</th>\n",
       "      <td>AL</td>\n",
       "      <td>35005</td>\n",
       "      <td>3300</td>\n",
       "      <td>128387</td>\n",
       "      <td>38.905152</td>\n",
       "      <td>3300</td>\n",
       "      <td>129390</td>\n",
       "      <td>39.209091</td>\n",
       "      <td>2440</td>\n",
       "      <td>70760</td>\n",
       "      <td>29.000000</td>\n",
       "    </tr>\n",
       "    <tr>\n",
       "      <th>3</th>\n",
       "      <td>AL</td>\n",
       "      <td>35006</td>\n",
       "      <td>1230</td>\n",
       "      <td>58302</td>\n",
       "      <td>47.400000</td>\n",
       "      <td>1230</td>\n",
       "      <td>58585</td>\n",
       "      <td>47.630081</td>\n",
       "      <td>940</td>\n",
       "      <td>36341</td>\n",
       "      <td>38.660638</td>\n",
       "    </tr>\n",
       "    <tr>\n",
       "      <th>4</th>\n",
       "      <td>AL</td>\n",
       "      <td>35007</td>\n",
       "      <td>11990</td>\n",
       "      <td>643708</td>\n",
       "      <td>53.687073</td>\n",
       "      <td>11990</td>\n",
       "      <td>651350</td>\n",
       "      <td>54.324437</td>\n",
       "      <td>9280</td>\n",
       "      <td>414878</td>\n",
       "      <td>44.706681</td>\n",
       "    </tr>\n",
       "  </tbody>\n",
       "</table>\n",
       "</div>"
      ],
      "text/plain": [
       "  STATE  ZIPCODE  Number of returns  Adjusted gross income (AGI)    Avg AGI  \\\n",
       "0    AL        0            2022380                    105089761  51.963410   \n",
       "1    AL    35004               4930                       255534  51.832454   \n",
       "2    AL    35005               3300                       128387  38.905152   \n",
       "3    AL    35006               1230                        58302  47.400000   \n",
       "4    AL    35007              11990                       643708  53.687073   \n",
       "\n",
       "   Number of returns with total income  Total income amount  Avg total income  \\\n",
       "0                              2022380            106420533         52.621433   \n",
       "1                                 4930               258024         52.337525   \n",
       "2                                 3300               129390         39.209091   \n",
       "3                                 1230                58585         47.630081   \n",
       "4                                11990               651350         54.324437   \n",
       "\n",
       "   Number of returns with taxable income  Taxable income amount  \\\n",
       "0                                1468370               67850874   \n",
       "1                                   4020                 163859   \n",
       "2                                   2440                  70760   \n",
       "3                                    940                  36341   \n",
       "4                                   9280                 414878   \n",
       "\n",
       "   Avg taxable income  \n",
       "0           46.208295  \n",
       "1           40.760945  \n",
       "2           29.000000  \n",
       "3           38.660638  \n",
       "4           44.706681  "
      ]
     },
     "execution_count": 107,
     "metadata": {},
     "output_type": "execute_result"
    }
   ],
   "source": [
    "path_income = 'irs_income_by_zip_code.csv'\n",
    "\n",
    "df_income = pd.read_csv(path_income)\n",
    "df_income.head()"
   ]
  },
  {
   "cell_type": "code",
   "execution_count": 106,
   "metadata": {
    "scrolled": true
   },
   "outputs": [],
   "source": [
    "df_death_final = df_death[['ZIP Code','Causes of Death','Count']]"
   ]
  },
  {
   "cell_type": "code",
   "execution_count": 105,
   "metadata": {},
   "outputs": [],
   "source": [
    "df_income_final = df_income[['ZIPCODE', 'Avg AGI']]"
   ]
  },
  {
   "cell_type": "code",
   "execution_count": 104,
   "metadata": {},
   "outputs": [],
   "source": [
    "df_max_Crime = grouped.groupby(['ZIP Code']).aggregate(np.max)"
   ]
  },
  {
   "cell_type": "code",
   "execution_count": 86,
   "metadata": {},
   "outputs": [],
   "source": [
    "idx = df_death.groupby(['ZIP Code'])['Count'].transform(max) == df_death['Count']"
   ]
  },
  {
   "cell_type": "code",
   "execution_count": 103,
   "metadata": {},
   "outputs": [
    {
     "data": {
      "text/html": [
       "<div>\n",
       "<style scoped>\n",
       "    .dataframe tbody tr th:only-of-type {\n",
       "        vertical-align: middle;\n",
       "    }\n",
       "\n",
       "    .dataframe tbody tr th {\n",
       "        vertical-align: top;\n",
       "    }\n",
       "\n",
       "    .dataframe thead th {\n",
       "        text-align: right;\n",
       "    }\n",
       "</style>\n",
       "<table border=\"1\" class=\"dataframe\">\n",
       "  <thead>\n",
       "    <tr style=\"text-align: right;\">\n",
       "      <th></th>\n",
       "      <th>ZIP Code</th>\n",
       "      <th>Causes of Death</th>\n",
       "      <th>Count</th>\n",
       "    </tr>\n",
       "  </thead>\n",
       "  <tbody>\n",
       "    <tr>\n",
       "      <th>231942</th>\n",
       "      <td>95608</td>\n",
       "      <td>HTD</td>\n",
       "      <td>249</td>\n",
       "    </tr>\n",
       "    <tr>\n",
       "      <th>231962</th>\n",
       "      <td>92543</td>\n",
       "      <td>HTD</td>\n",
       "      <td>292</td>\n",
       "    </tr>\n",
       "    <tr>\n",
       "      <th>231990</th>\n",
       "      <td>92653</td>\n",
       "      <td>HTD</td>\n",
       "      <td>380</td>\n",
       "    </tr>\n",
       "    <tr>\n",
       "      <th>231991</th>\n",
       "      <td>99998</td>\n",
       "      <td>HTD</td>\n",
       "      <td>388</td>\n",
       "    </tr>\n",
       "    <tr>\n",
       "      <th>232017</th>\n",
       "      <td>99999</td>\n",
       "      <td>OTH</td>\n",
       "      <td>1003</td>\n",
       "    </tr>\n",
       "  </tbody>\n",
       "</table>\n",
       "</div>"
      ],
      "text/plain": [
       "        ZIP Code Causes of Death  Count\n",
       "231942     95608             HTD    249\n",
       "231962     92543             HTD    292\n",
       "231990     92653             HTD    380\n",
       "231991     99998             HTD    388\n",
       "232017     99999             OTH   1003"
      ]
     },
     "execution_count": 103,
     "metadata": {},
     "output_type": "execute_result"
    }
   ],
   "source": [
    "di = df_death[idx]\n",
    "\n",
    "df_u = di.drop_duplicates(subset=['ZIP Code', 'Count'], keep='first', inplace=False)\n",
    "df_final = df_u.loc[df_u['Count'] > 20]\n",
    "df_final = df_final[['ZIP Code', 'Causes of Death', 'Count']]\n",
    "df_final.tail()"
   ]
  },
  {
   "cell_type": "code",
   "execution_count": null,
   "metadata": {},
   "outputs": [],
   "source": []
  },
  {
   "cell_type": "code",
   "execution_count": null,
   "metadata": {},
   "outputs": [],
   "source": []
  },
  {
   "cell_type": "code",
   "execution_count": null,
   "metadata": {},
   "outputs": [],
   "source": []
  },
  {
   "cell_type": "code",
   "execution_count": null,
   "metadata": {},
   "outputs": [],
   "source": []
  },
  {
   "cell_type": "code",
   "execution_count": null,
   "metadata": {},
   "outputs": [],
   "source": []
  },
  {
   "cell_type": "code",
   "execution_count": 109,
   "metadata": {},
   "outputs": [
    {
     "name": "stdout",
     "output_type": "stream",
     "text": [
      "We have studied 1785 Zipcodes in the 'Cause of Death' DataFrame\n"
     ]
    }
   ],
   "source": [
    "zip_num_death = df_death['ZIP Code'].nunique()\n",
    "print(f\"We have studied {zip_num_death} Zipcodes in the 'Cause of Death' DataFrame\")"
   ]
  },
  {
   "cell_type": "code",
   "execution_count": 111,
   "metadata": {},
   "outputs": [
    {
     "name": "stdout",
     "output_type": "stream",
     "text": [
      "There are 14 unique diseases in the data-set\n"
     ]
    }
   ],
   "source": [
    "diseases_total = df_death['Causes of Death'].nunique()\n",
    "print(f\"There are {diseases_total} unique diseases in the data-set\")"
   ]
  },
  {
   "cell_type": "code",
   "execution_count": null,
   "metadata": {},
   "outputs": [],
   "source": []
  },
  {
   "cell_type": "code",
   "execution_count": null,
   "metadata": {},
   "outputs": [],
   "source": []
  },
  {
   "cell_type": "code",
   "execution_count": null,
   "metadata": {},
   "outputs": [],
   "source": []
  }
 ],
 "metadata": {
  "kernelspec": {
   "display_name": "Python 3",
   "language": "python",
   "name": "python3"
  },
  "language_info": {
   "codemirror_mode": {
    "name": "ipython",
    "version": 3
   },
   "file_extension": ".py",
   "mimetype": "text/x-python",
   "name": "python",
   "nbconvert_exporter": "python",
   "pygments_lexer": "ipython3",
   "version": "3.7.3"
  }
 },
 "nbformat": 4,
 "nbformat_minor": 2
}
